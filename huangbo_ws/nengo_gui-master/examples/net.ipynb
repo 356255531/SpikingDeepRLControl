{
 "metadata": {
  "name": "",
  "signature": "sha256:449f5777c8db5b6d5daf37b3d65fc3848ca984f8862ebb50760a896deda5adea"
 },
 "nbformat": 3,
 "nbformat_minor": 0,
 "worksheets": [
  {
   "cells": [
    {
     "cell_type": "code",
     "collapsed": false,
     "input": [
      "import numpy as np\n",
      "import nengo\n",
      "\n",
      "model = nengo.Network()\n",
      "with model:\n",
      "    stimulus_A = nengo.Node([1], label='stim A')\n",
      "    stimulus_B = nengo.Node(lambda t: np.sin(2*np.pi*t))\n",
      "    ens = nengo.Ensemble(n_neurons=1000, dimensions=2)\n",
      "    result = nengo.Ensemble(n_neurons=50, dimensions=1)\n",
      "    nengo.Connection(stimulus_A, ens[0])\n",
      "    nengo.Connection(stimulus_B, ens[1])\n",
      "    nengo.Connection(ens, result, function=lambda x: x[0] * x[1],\n",
      "                     synapse=0.01)\n",
      "\n",
      "    with nengo.Network(label='subnet') as subnet:\n",
      "        a = nengo.Ensemble(100, 1)\n",
      "        b = nengo.Ensemble(100, 1)\n",
      "        nengo.Connection(a, b)\n",
      "        nengo.Connection(b, b)\n",
      "\n",
      "        with nengo.Network() as subsubnet:\n",
      "            c = nengo.Ensemble(100, 1)\n",
      "            d = nengo.Ensemble(100, 1)\n",
      "            nengo.Connection(c, d)\n",
      "        nengo.Connection(b, c)\n",
      "        nengo.Connection(d, a)\n",
      "    nengo.Connection(result, a)"
     ],
     "language": "python",
     "metadata": {},
     "outputs": []
    },
    {
     "cell_type": "code",
     "collapsed": false,
     "input": [
      "from nengo_gui.ipython import IPythonViz\n",
      "IPythonViz(model)"
     ],
     "language": "python",
     "metadata": {},
     "outputs": []
    }
   ],
   "metadata": {}
  }
 ]
}
